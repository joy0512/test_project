{
  "nbformat": 4,
  "nbformat_minor": 0,
  "metadata": {
    "colab": {
      "name": "Assignment 02.ipynb",
      "provenance": [],
      "collapsed_sections": [],
      "include_colab_link": true
    },
    "kernelspec": {
      "name": "python3",
      "display_name": "Python 3"
    },
    "language_info": {
      "name": "python"
    }
  },
  "cells": [
    {
      "cell_type": "markdown",
      "metadata": {
        "id": "view-in-github",
        "colab_type": "text"
      },
      "source": [
        "<a href=\"https://colab.research.google.com/github/joy0512/test_project/blob/main/Assignment_02.ipynb\" target=\"_parent\"><img src=\"https://colab.research.google.com/assets/colab-badge.svg\" alt=\"Open In Colab\"/></a>"
      ]
    },
    {
      "cell_type": "code",
      "execution_count": 1,
      "metadata": {
        "colab": {
          "base_uri": "https://localhost:8080/"
        },
        "id": "N9YUsOry9nD0",
        "outputId": "28ca59e4-9773-4b27-8ee0-389982c010d2"
      },
      "outputs": [
        {
          "output_type": "stream",
          "name": "stdout",
          "text": [
            "김밥의 가격은? 5000\n",
            "dict_values([5000, 3000, 2000])\n"
          ]
        }
      ],
      "source": [
        "# 사전의 구조와 이해\n",
        "\n",
        "price = {'김밥': 5000, '어묵':3000, '떡볶이':2000}\n",
        "print(\"김밥의 가격은?\", price['김밥'])\n",
        "print(price.values())"
      ]
    },
    {
      "cell_type": "code",
      "source": [
        "# 리스트의 슬라이싱을 사용하여 아래를 출력하세요\n",
        "\n",
        "tp = [1,2,3,4,5,6,7]\n",
        "\n",
        "print(tp[0])\n",
        "\n",
        "print(tp[0:3])\n",
        "\n",
        "print(tp[3:])\n",
        "\n",
        "print(tp[-1])\n",
        "\n",
        "tp.reverse()\n",
        "print(tp)\n"
      ],
      "metadata": {
        "colab": {
          "base_uri": "https://localhost:8080/"
        },
        "id": "lQCEERSl-Wba",
        "outputId": "c0b2d809-4cb1-4001-bc9c-1e88f4cc315b"
      },
      "execution_count": 2,
      "outputs": [
        {
          "output_type": "stream",
          "name": "stdout",
          "text": [
            "1\n",
            "[1, 2, 3]\n",
            "[4, 5, 6, 7]\n",
            "7\n",
            "[7, 6, 5, 4, 3, 2, 1]\n"
          ]
        }
      ]
    },
    {
      "cell_type": "code",
      "source": [
        "# 조건문\n",
        "# 점수를 입력받아 등급을 출력하세요\n",
        "# 등급표 81~100\tA / 61~80\tB / 41~60\tC / 21~40\tD / 0~20\tE\n",
        "\n",
        "score = int(input(\"점수를 입력하세요: \"))\n",
        "\n",
        "if score <= 100 and score >= 81 :\n",
        "    grade=\"A\"\n",
        "elif score <= 80 and score >= 61 :\n",
        "    grade=\"B\"\n",
        "elif score <= 60 and score >= 41 :\n",
        "    grade=\"C\"\n",
        "elif score <= 40 and score >= 21 :\n",
        "    grade=\"D\"\n",
        "elif score <= 20 and score >= 0 :\n",
        "    grade=\"E\"\n",
        "\n",
        "print(\"점수는 %d이며 등급은 %s등급입니다.\" %(score,grade))\n"
      ],
      "metadata": {
        "colab": {
          "base_uri": "https://localhost:8080/"
        },
        "id": "YxX6NxrNCK5z",
        "outputId": "757900a0-2eec-4bdd-dac7-f530891c650f"
      },
      "execution_count": 3,
      "outputs": [
        {
          "output_type": "stream",
          "name": "stdout",
          "text": [
            "점수를 입력하세요: 67\n",
            "점수는 67이며 등급은 B등급입니다.\n"
          ]
        }
      ]
    },
    {
      "cell_type": "code",
      "source": [
        "# 함수를 만들고 두 수를 입력받아 연산하세요\n",
        "\n",
        "a = int(input('첫 번째 정수를 입력하세요: '))\n",
        "b = int(input('두 번째 정수를 입력하세요: '))\n",
        "\n",
        "print(\"덧셈 함수 연산:\",a+b)\n",
        "print(\"곱셈 함수 연산:\",a*b)\n",
        "print(\"제곱 함수 연산:\",a**b)\n"
      ],
      "metadata": {
        "colab": {
          "base_uri": "https://localhost:8080/"
        },
        "id": "mD9n7jRG-8qL",
        "outputId": "08b05804-f23d-4516-8d85-662ad2ed60cb"
      },
      "execution_count": 4,
      "outputs": [
        {
          "output_type": "stream",
          "name": "stdout",
          "text": [
            "첫 번째 정수를 입력하세요: 3\n",
            "두 번째 정수를 입력하세요: 5\n",
            "덧셈 함수 연산: 8\n",
            "곱셈 함수 연산: 15\n",
            "제곱 함수 연산: 243\n"
          ]
        }
      ]
    },
    {
      "cell_type": "code",
      "source": [
        "# 알고리즘 생성\n",
        "# 피보나치 수열을 계산하는 함수를 생성하고 자연수 10을 넣어 실행하세요\n",
        "\n",
        "def pivo(n):\n",
        "    a = 1\n",
        "    b = 1\n",
        "    if n == 1 or n == 2:\n",
        "    \treturn 1\n",
        "    for i in range(1, n):\n",
        "    \ta, b = b, b + a\n",
        "    \n",
        "    return a\n",
        "\n",
        "print(pivo(10))\n"
      ],
      "metadata": {
        "colab": {
          "base_uri": "https://localhost:8080/"
        },
        "id": "OL3QMyusC9V0",
        "outputId": "cb9cd6a9-3c86-4c46-9a08-219bca84e3f2"
      },
      "execution_count": 6,
      "outputs": [
        {
          "output_type": "stream",
          "name": "stdout",
          "text": [
            "55\n"
          ]
        }
      ]
    },
    {
      "cell_type": "code",
      "source": [
        "# 클래스\n",
        "# 사람 (Human) 클래스를 정의하고 (이름, 나이, 성별)을 받는 생성자를 추가하세요.\n",
        "class Human :\n",
        "    def __init__(self, name,age,gender):\n",
        "        self.name = name\n",
        "        self.age=age\n",
        "        self.gender=gender\n",
        "\n",
        "    def info(self):\n",
        "        print(\"이름: {} 나이: {} 성별: {}\".format(self.name, self.age, self.gender))\n",
        "\n",
        "a = Human(\"김영희\",18,\"여자\")\n",
        "b = Human(\"홍길동\",25,\"남자\")\n",
        "c = Human(\"박철수\",32,\"남자\")\n",
        "d = Human(\"이수진\",40,\"여자\")\n",
        "\n",
        "a.info()\n",
        "b.info()\n",
        "c.info()\n",
        "d.info()\n"
      ],
      "metadata": {
        "id": "nYv044w8Ae0Z",
        "colab": {
          "base_uri": "https://localhost:8080/"
        },
        "outputId": "969e66be-771e-4195-e755-48cdb1a85af9"
      },
      "execution_count": 7,
      "outputs": [
        {
          "output_type": "stream",
          "name": "stdout",
          "text": [
            "이름: 김영희 나이: 18 성별: 여자\n",
            "이름: 홍길동 나이: 25 성별: 남자\n",
            "이름: 박철수 나이: 32 성별: 남자\n",
            "이름: 이수진 나이: 40 성별: 여자\n"
          ]
        }
      ]
    }
  ]
}